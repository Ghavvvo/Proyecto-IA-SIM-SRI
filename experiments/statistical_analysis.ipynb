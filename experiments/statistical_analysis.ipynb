{
 "cells": [
  {
   "cell_type": "markdown",
   "metadata": {},
   "source": [
    "# Análisis Estadístico de Experimentos"
   ]
  },
  {
   "cell_type": "markdown",
   "metadata": {},
   "source": [
    "## 1. Análisis de Rendimiento del Crawler (Throughput)\n\nEn esta sección, se analiza el rendimiento de los crawlers secuencial y paralelo para determinar si existen diferencias significativas en sus tiempos de ejecución."
   ]
  },
  {
   "cell_type": "markdown",
   "metadata": {},
   "source": [
    "### 1.1. Carga de Datos"
   ]
  },
  {
   "cell_type": "code",
   "execution_count": null,
   "metadata": {},
   "outputs": [],
   "source": [
    "import pandas as pd\n",
    "from scipy.stats import shapiro, ttest_ind\n",
    "import matplotlib.pyplot as plt\n",
    "import seaborn as sns\n",
    "\n",
    "# Cargar los datos\n",
    "df_crawler = pd.read_csv('../crawler_metrics_duckduckgo_20250625_002317.csv')\n",
    "df_crawler.head()"
   ]
  },
  {
   "cell_type": "markdown",
   "metadata": {},
   "source": [
    "### 1.2. Test de Normalidad\n\nSe realiza un test de Shapiro-Wilk para determinar si los datos de tiempo de ejecución (`seq_time` y `par_time`) siguen una distribución normal. La hipótesis nula (H0) es que los datos provienen de una distribución normal."
   ]
  },
  {
   "cell_type": "code",
   "execution_count": null,
   "metadata": {},
   "outputs": [],
   "source": [
    "# Extraer las columnas de tiempo\n",
    "seq_time = df_crawler['seq_time']\n",
    "par_time = df_crawler['par_time']\n",
    "\n",
    "# Realizar el test de Shapiro-Wilk\n",
    "stat_seq, p_seq = shapiro(seq_time)\n",
    "stat_par, p_par = shapiro(par_time)\n",
    "\n",
    "print(f\"Test de Shapiro-Wilk para 'seq_time': p-value = {p_seq}\")\n",
    "print(f\"Test de Shapiro-Wilk para 'par_time': p-value = {p_par}\")\n",
    "\n",
    "# Visualización de las distribuciones\n",
    "plt.figure(figsize=(12, 5))\n",
    "plt.subplot(1, 2, 1)\n",
    "sns.histplot(seq_time, kde=True)\n",
    "plt.title('Distribución de seq_time')\n",
    "\n",
    "plt.subplot(1, 2, 2)\n",
    "sns.histplot(par_time, kde=True)\n",
    "plt.title('Distribución de par_time')\n",
    "plt.show()\n",
    "\n",
    "alpha = 0.05\n",
    "if p_seq > alpha and p_par > alpha:\n",
    "    print('\\nAmbas muestras parecen seguir una distribución normal (no se puede rechazar H0).')\n",
    "else:\n",
    "    print('\\nAl menos una de las muestras no sigue una distribución normal. Se debería considerar un test no paramétrico.')"
   ]
  },
  {
   "cell_type": "markdown",
   "metadata": {},
   "source": [
    "### 1.3. Test de Hipótesis\n\nDado que los datos parecen normales, se procede con un test t de Student para muestras independientes (específicamente, el test de Welch, que no asume varianzas iguales) para comparar las medias de `seq_time` y `par_time`.\n\n*   **Hipótesis Nula (H0):** No hay diferencia entre las medias de los tiempos de ejecución (`mean(seq_time) = mean(par_time)`).\n*   **Hipótesis Alternativa (H1):** Existe una diferencia significativa entre las medias (`mean(seq_time) != mean(par_time)`)."
   ]
  },
  {
   "cell_type": "code",
   "execution_count": null,
   "metadata": {},
   "outputs": [],
   "source": [
    "# Solo proceder si los datos son normales\n",
    "if p_seq > alpha and p_par > alpha:\n",
    "    # Realizar el t-test de Welch\n",
    "    stat_ttest, p_ttest = ttest_ind(seq_time, par_time, equal_var=False)\n",
    "\n",
    "    print(f\"Test t de Student (Welch): p-value = {p_ttest}\")\n",
    "\n",
    "    if p_ttest < alpha:\n",
    "        print('Se rechaza la hipótesis nula: Hay una diferencia estadísticamente significativa entre los tiempos de ejecución.')\n",
    "        if par_time.mean() < seq_time.mean():\n",
    "            print('Conclusión: El crawler paralelo es significativamente más eficiente que el secuencial.')\n",
    "        else:\n",
    "            print('Conclusión: El crawler secuencial es significativamente más eficiente que el paralelo.')\n",
    "    else:\n",
    "        print('No se puede rechazar la hipótesis nula: No hay evidencia de una diferencia significativa entre los tiempos de ejecución.')\n",
    "else:\n",
    "    print('No se realiza el t-test porque los datos no cumplen el supuesto de normalidad.')"
   ]
  },
  {
   "cell_type": "markdown",
   "metadata": {},
   "source": [
    "## 2. Próximos Análisis\n\nEsta sección está reservada para futuros análisis de otros componentes del sistema."
   ]
  }
 ],
 "metadata": {
  "kernelspec": {
   "display_name": "Python 3",
   "language": "python",
   "name": "python3"
  },
  "language_info": {
   "codemirror_mode": {
    "name": "ipython",
    "version": 3
   },
   "file_extension": ".py",
   "mimetype": "text/x-python",
   "name": "python",
   "nbconvert_exporter": "python",
   "pygments_lexer": "ipython3",
   "version": "3.9.12"
  }
 },
 "nbformat": 4,
 "nbformat_minor": 5
}